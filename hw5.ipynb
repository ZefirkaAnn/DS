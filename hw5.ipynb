{
 "cells": [
  {
   "cell_type": "markdown",
   "metadata": {},
   "source": [
    "# <a href=\"https://miptstats.github.io/courses/ad_mipt.html\">Phystech@DataScience</a>\n",
    "## Домашнее задание 5\n",
    "\n",
    "**Правила, <font color=\"red\">прочитайте внимательно</font>:**\n",
    "\n",
    "* Выполненную работу нужно отправить телеграм-боту `@miptstats_pds_bot`. Для начала работы с ботом каждый раз отправляйте `/start`. **Работы, присланные иным способом, не принимаются.**\n",
    "* Дедлайн см. в боте. После дедлайна работы не принимаются кроме случаев наличия уважительной причины.\n",
    "* Прислать нужно ноутбук в формате `ipynb`.\n",
    "* Выполнять задание необходимо полностью самостоятельно. **При обнаружении списывания все участники списывания будут сдавать устный зачет.**\n",
    "* Решения, размещенные на каких-либо интернет-ресурсах, не принимаются. Кроме того, публикация решения в открытом доступе может быть приравнена к предоставлении возможности списать.\n",
    "* Для выполнения задания используйте этот ноутбук в качестве основы, ничего не удаляя из него. Можно добавлять необходимое количество ячеек.\n",
    "* Комментарии к решению пишите в markdown-ячейках.\n",
    "* Выполнение задания (ход решения, выводы и пр.) должно быть осуществлено на русском языке.\n",
    "* Если код будет не понятен проверяющему, оценка может быть снижена.\n",
    "* Никакой код из данного задания при проверке запускаться не будет. *Если код студента не выполнен, недописан и т.д., то он не оценивается.*\n",
    "* **Код из рассказанных на занятиях ноутбуков можно использовать без ограничений.**\n",
    "\n",
    "**Правила оформления теоретических задач:**\n",
    "\n",
    "* Решения необходимо прислать одним из следующих способов:\n",
    "  * фотографией в правильной ориентации, где все четко видно, а почерк разборчив,\n",
    "    * отправив ее как файл боту вместе с ноутбуком *или*\n",
    "    * вставив ее в ноутбук посредством `Edit -> Insert Image` (<font color=\"red\">фото, вставленные ссылкой, не принимаются</font>);\n",
    "  * в виде $\\LaTeX$ в markdown-ячейках.\n",
    "* Решения не проверяются, если какое-то требование не выполнено. Особенно внимательно все проверьте в случае выбора второго пункта (вставки фото в ноутбук). <font color=\"red\"><b>Неправильно вставленные фотографии могут не передаться при отправке.</b></font> Для проверки попробуйте переместить `ipynb` в другую папку и открыть его там.\n",
    "* В решениях поясняйте, чем вы пользуетесь, хотя бы кратко. Например, если пользуетесь независимостью, то достаточно подписи вида \"*X и Y незав.*\"\n",
    "* Решение, в котором есть только ответ, и отсутствуют вычисления, оценивается в 0 баллов.\n",
    "\n",
    "**Баллы за задание:**\n",
    "\n",
    "<b><font color=\"blue\">Легкая часть</font></b> (достаточно на \"хор\"):\n",
    "* Задача 1 &mdash; 20 баллов\n",
    "* Задача 2 &mdash; 15 баллов\n",
    "* Задача 3 &mdash;  20 баллов\n",
    "* Задача 4 &mdash;  30 баллов\n",
    "\n",
    "<b><font color=\"orange\">Сложная часть</font></b> (необходимо на \"отл\"):\n",
    "* Задача 5 &mdash; 25 баллов\n",
    "* Задача 6 &mdash;  40 баллов\n",
    "\n",
    "-----"
   ]
  },
  {
   "cell_type": "code",
   "execution_count": null,
   "metadata": {},
   "outputs": [],
   "source": [
    "# Bot check\n",
    "\n",
    "# HW_ID: phds_hw5\n",
    "# Бот проверит этот ID и предупредит, если случайно сдать что-то не то.\n",
    "\n",
    "# Status: not final\n",
    "# Перед отправкой в финальном решении удали \"not\" в строчке выше.\n",
    "# Так бот проверит, что ты отправляешь финальную версию, а не промежуточную.\n",
    "# Никакие значения в этой ячейке не влияют на факт сдачи работы."
   ]
  },
  {
   "cell_type": "code",
   "execution_count": 190,
   "metadata": {
    "ExecuteTime": {
     "end_time": "2023-03-20T19:12:45.320286Z",
     "start_time": "2023-03-20T19:12:43.619275Z"
    },
    "id": "PZz3QM6KqEEm"
   },
   "outputs": [],
   "source": [
    "import pandas as pd\n",
    "import numpy as np\n",
    "import scipy.stats as sps\n",
    "import matplotlib.pyplot as plt\n",
    "import seaborn as sns\n",
    "\n",
    "sns.set_style(\"whitegrid\")"
   ]
  },
  {
   "cell_type": "markdown",
   "metadata": {},
   "source": [
    "### <b><i><font color=\"blue\">Легкая часть</font></i></b> \n",
    "\n",
    "### Задача 1.\n",
    "\n",
    "**1.** Найдите оценку параметра $\\theta$ методом максимального правдоподобия по выборке размера $n$ из распределения $\\mathcal{N}(a,\\sigma^2)$ для трех различных случаев\n",
    "- $\\theta = (a, \\sigma^2)$;\n",
    "- $\\theta = \\sigma^2$, причем $a$ известно;\n",
    "- $\\theta = a$, причем $\\sigma^2$ известно.\n",
    "\n",
    "Для последнего случая посчитайте асимптотическую дисперсию оценки по теореме из лекции.\n",
    "\n",
    "**2.** Найдите оценку параметра $\\theta$ методом максимального правдоподобия по выборке размера $n$ из распределения $\\mathrm{Pois}(\\theta)$. Посчитайте асимптотическую дисперсию по теореме из лекции, если оценка является асимптотически нормальной."
   ]
  },
  {
   "cell_type": "code",
   "execution_count": 191,
   "metadata": {},
   "outputs": [
    {
     "name": "stdout",
     "output_type": "stream",
     "text": [
      "theta =  [0.85858586 4.25757576]\n"
     ]
    }
   ],
   "source": [
    "grid_loc = np.linspace(-5, 5, 100)\n",
    "grid_scale = np.linspace(0.1, 5, 100)\n",
    "grid = np.array([[i, j] for i in grid_loc for j in grid_scale])\n",
    "sample = sps.norm(loc = 1, scale = 2).rvs(size = 1000)\n",
    "sample = np.array(sample)[np.newaxis, :]\n",
    "\n",
    "alpha = sps.norm(loc = grid[:, 0].reshape(-1,1), \n",
    "                         scale = np.sqrt(grid[:, 1].reshape(-1,1))).logpdf(sample).sum(axis = 1)\n",
    "index = np.argmax(alpha)\n",
    "theta = grid[index, :]\n",
    "print(\"theta = \", theta)"
   ]
  },
  {
   "cell_type": "code",
   "execution_count": 192,
   "metadata": {},
   "outputs": [
    {
     "name": "stdout",
     "output_type": "stream",
     "text": [
      "theta =  4.257575757575758\n"
     ]
    }
   ],
   "source": [
    "alpha = sps.norm(loc = 1, \n",
    "                         scale = np.sqrt(grid[:, 1].reshape(-1,1))).logpdf(sample).sum(axis = 1)\n",
    "index = np.argmax(alpha)\n",
    "theta = grid[index, 1]\n",
    "print(\"theta = \", theta)"
   ]
  },
  {
   "cell_type": "code",
   "execution_count": 193,
   "metadata": {},
   "outputs": [
    {
     "name": "stdout",
     "output_type": "stream",
     "text": [
      "theta =  0.8585858585858581\n"
     ]
    }
   ],
   "source": [
    "alpha = sps.norm(loc = grid[:, 0].reshape(-1,1), \n",
    "                         scale = 1).logpdf(sample).sum(axis = 1)\n",
    "index = np.argmax(alpha)\n",
    "theta = grid[index, 0]\n",
    "print(\"theta = \", theta)"
   ]
  },
  {
   "cell_type": "markdown",
   "metadata": {},
   "source": [
    "---\n",
    "### Задача 2.\n",
    "Пусть $X_1,...,X_n$ &mdash;  выборка из категориального распределения, то есть $\\mathsf{P}_\\theta(X_1 = j) = \\theta_j$ для $j \\in \\{1, ..., k\\}$, причем $\\theta = (\\theta_1, ..., \\theta_k), \\theta_j \\geqslant 0$ и $\\theta_1 + ... + \\theta_k = 1$. Найдите оценку максимального правдоподобия параметра $\\theta$ и проверьте ее на состоятельность."
   ]
  },
  {
   "cell_type": "markdown",
   "metadata": {
    "id": "79RYJExflty3"
   },
   "source": [
    "---\n",
    "### Задача 3."
   ]
  },
  {
   "cell_type": "markdown",
   "metadata": {},
   "source": [
    "\n",
    "**Профиль Физика**\n",
    "\n",
    "Скачайте <a target=\"_blank\" href=\"https://www.kaggle.com/datasets/fedesoriano/cern-electron-collision-data\">данные</a> столкновениях частиц и оставьте следующие признаки:\n",
    "* `E1`, `E2` &mdash; полная энергия электронов (ГэВ);\n",
    "* `M` &mdash; инвариантная масса двух электронов (ГэВ).\n",
    "\n",
    "**Профиль Биология**\n",
    "\n",
    "Скачайте <a target=\"_blank\" href=\"https://www.kaggle.com/datasets/ruslankl/mice-protein-expression\">данные</a> экспрессии белков у белых мышей и оставьте следующие белки для анализа:\n",
    "* `ITSN1_N`\n",
    "* `DYRK1A_N` \n",
    "* `ELK_N`\n",
    "\n",
    "**Профиль Химия**\n",
    "\n",
    "Выберите любой вариант выше.\n",
    "\n",
    "---\n",
    "\n",
    "\n",
    "**1.** Постройте для каждого из признаков гистограммы. Что можно сказать о характере распределения?\n"
   ]
  },
  {
   "cell_type": "code",
   "execution_count": 194,
   "metadata": {},
   "outputs": [],
   "source": [
    "df = pd.read_csv(\"dielectron.csv\") "
   ]
  },
  {
   "cell_type": "code",
   "execution_count": 195,
   "metadata": {},
   "outputs": [],
   "source": [
    "columns = ['E1', 'E2', 'M']  \n",
    "\n",
    "df_chosen_columns = df[columns]"
   ]
  },
  {
   "cell_type": "code",
   "execution_count": 196,
   "metadata": {},
   "outputs": [
    {
     "data": {
      "image/png": "[encoded data removed]",
      "text/plain": [
       "<Figure size 1200x500 with 3 Axes>"
      ]
     },
     "metadata": {},
     "output_type": "display_data"
    }
   ],
   "source": [
    "fig, axs = plt.subplots(1, 3, figsize=(12, 5))\n",
    "\n",
    "for i, column in enumerate(columns):\n",
    "    axs[i].hist(df_chosen_columns[column], bins=100)\n",
    "    axs[i].set_title(column)\n",
    "\n",
    "plt.show()"
   ]
  },
  {
   "cell_type": "markdown",
   "metadata": {},
   "source": [
    "**Ответ:** похоже на экспоненциальное распределение"
   ]
  },
  {
   "cell_type": "code",
   "execution_count": 210,
   "metadata": {},
   "outputs": [
    {
     "name": "stdout",
     "output_type": "stream",
     "text": [
      "[58.7141   6.61188 25.5419  ...  4.18566 54.4622   7.64   ]\n"
     ]
    }
   ],
   "source": [
    "clear = dict()\n",
    "for col in columns:\n",
    "    sample = df[col]\n",
    "    sample = sample.dropna()\n",
    "    if col in ['E1','E2']:\n",
    "        sample = sample[sample < 300]\n",
    "    clear[col] = sample\n",
    "print(np.array(clear['E1']))"
   ]
  },
  {
   "cell_type": "markdown",
   "metadata": {},
   "source": [
    "**2.** Пусть есть выборка $X_1, ..., X_n$. Опишите процедуру бутстрепа построения доверительного интервала для величины $\\theta = \\mathsf{E} X_1$. Рассмотрите три типа  бутстрепных доверительных интервалов, выпишите формулу для каждого из них.\n"
   ]
  },
  {
   "cell_type": "markdown",
   "metadata": {},
   "source": [
    "**Описание:** 1) выбор случайных элементов из выборки\n",
    "2) генерация выборки из этих случайных элементов\n",
    "3) процедуру генерации выборок повторяем B раз\n",
    "4) для каждой выборки посчитаем значение средних\n",
    "5) вычисляем бутстрепную оценку \n",
    "6) строим доверительные интервалы"
   ]
  },
  {
   "cell_type": "markdown",
   "metadata": {},
   "source": []
  },
  {
   "cell_type": "markdown",
   "metadata": {},
   "source": [
    "**3.** Реализуйте функцию вычисления выборки оценок $\\theta^*_1, \\ldots \\theta^*_B$ для оценки $\\widehat \\theta$ методом бутстрепа. Функция должна принимать на вход выборку и количество бутстрепных выборок $B$. "
   ]
  },
  {
   "cell_type": "code",
   "execution_count": 212,
   "metadata": {},
   "outputs": [],
   "source": [
    "def estimator(sample):\n",
    "    '''\n",
    "    Делает необходимые преобразования с выборкой (выполняет подсчет статистики).\n",
    "    Используется в функции bootstrap для вычисления оценок.\n",
    "    \n",
    "    :param sample: массив с числами\n",
    "    :return: оценка, посчитанная по выборке\n",
    "    '''\n",
    "    sample = sample.mean()\n",
    "    return sample\n",
    "\n",
    "def bootstrap(sample, B=100_000):\n",
    "    '''\n",
    "    Реализует процедуру бутстрепа.\n",
    "    \n",
    "    :param sample: исходная выборка, по которой будут вычисляться бутстрепные оценки\n",
    "    :param B: число бутстрепных оценок\n",
    "    :return: возвращает массив длины B c бутстрепными оценками\n",
    "    '''\n",
    "\n",
    "    n = len(sample)  # длина выборки\n",
    "    bootstrap_means = [] \n",
    "    \n",
    "    for b in range(B):\n",
    "        ind = np.random.randint(n, size = n)\n",
    "        bsample = np.array([sample[i] for i in ind])\n",
    "        current_mean = estimator(bsample)\n",
    "        bootstrap_means.append(current_mean)\n",
    "    return np.array(bootstrap_means)"
   ]
  },
  {
   "cell_type": "markdown",
   "metadata": {},
   "source": [
    "**4.** Реализуйте три типа бутстрепных доверительных интервалы в виде функций, принимающих на вход выборку оценок, полученных с помощью бутстрепа. Реализовывать вычисление бутстрепных интервалов для подвыборок размера от 1 до n не нужно, только для всей выборки. "
   ]
  },
  {
   "cell_type": "code",
   "execution_count": 215,
   "metadata": {},
   "outputs": [],
   "source": [
    "def boostrap_normal_confidence_interval(bootstrap_estimations, sample_mean, alpha=0.95):\n",
    "    inter = sps.norm().ppf((1 + 0.95) / 2) * np.sqrt(np.mean(bootstrap_estimations**2) - np.mean(bootstrap_estimations)**2)\n",
    "    return (sample_mean - inter, sample_mean + inter)\n",
    "\n",
    "def boostrap_central_confidence_interval(bootstrap_estimations, sample_mean, alpha=0.95):\n",
    "    b = np.sort(bootstrap_estimations)\n",
    "    left= b[int(np.floor(len(b) * (1 + alpha) / 2))]\n",
    "    right = b[int(np.ceil(len(b) * (1 - alpha) / 2))]\n",
    "    return (2 * sample_mean - left, 2 * sample_mean - right)\n",
    "    \n",
    "def boostrap_quantile_confidence_interval(bootstrap_estimations, sample_mean, alpha=0.95):\n",
    "    b = np.sort(bootstrap_estimations)\n",
    "    right = b[int(np.floor(len(b) * (1 + alpha) / 2))]\n",
    "    left = b[int(np.ceil(len(b) * (1 - alpha) / 2))]\n",
    "    return (left, right)"
   ]
  },
  {
   "cell_type": "markdown",
   "metadata": {},
   "source": [
    "**5.** Для каждого признака постройте бутстрепные доверительные интервалы для $\\theta = \\mathsf{E} X_1$ и сравните их."
   ]
  },
  {
   "cell_type": "code",
   "execution_count": 223,
   "metadata": {
    "scrolled": true
   },
   "outputs": [
    {
     "name": "stdout",
     "output_type": "stream",
     "text": [
      "E1 :  (35.85910499604824, 36.36782834411833)   (35.88556596441585, 36.41020288801249)   (35.816730452154076, 36.34136737575072)\n",
      "E2 :  (43.18323409052658, 43.72266392856494)   (43.12031839314873, 43.76671465079383)   (43.139183368297694, 43.785579625942795)\n",
      "M :  (29.862559004235237, 30.176483559143634)   (29.872603028073865, 30.166149860381328)   (29.872892702997543, 30.166439535305006)\n"
     ]
    }
   ],
   "source": [
    "for i, column in enumerate(columns):\n",
    "    sample = np.array(clear[column])\n",
    "    bootstrap_estimations = bootstrap(sample, B=100)\n",
    "    d1 = boostrap_normal_confidence_interval(bootstrap_estimations, estimator(sample),alpha=0.95)\n",
    "    d2 = boostrap_central_confidence_interval(bootstrap_estimations, estimator(sample),alpha=0.95)\n",
    "    d3 = boostrap_quantile_confidence_interval(bootstrap_estimations, estimator(sample), alpha=0.95)\n",
    "    print(column, \": \", d1, \" \", d2, \" \", d3)"
   ]
  },
  {
   "cell_type": "markdown",
   "metadata": {},
   "source": [
    "**Вывод:** они все отличаются лишь на десятые/тысячные друг от друга"
   ]
  },
  {
   "cell_type": "markdown",
   "metadata": {},
   "source": [
    "---\n",
    "\n",
    "### Задача 4.\n",
    "В данной задаче нужно исследовать бутстрепные доверительные интервалы на примере гамма-распределения $\\Gamma(\\alpha, \\beta)$ для величины $\\mathsf{E}_{\\theta} X_1 = \\frac{\\beta}{\\alpha}$.\n"
   ]
  },
  {
   "cell_type": "markdown",
   "metadata": {},
   "source": [
    "**1.** Сгенерируйте реализации выборки из $\\Gamma(3, 2)$ размеров 5 и 100 и выведите реализации вышеупомянутых доверительных интервалов для этих двух реализаций. Сделайте **выводы**.\n",
    "\n",
    "*Замечания.*\n",
    "\n",
    "1. Исходная выборка, по которой затем будут считаться бутстрепные оценки, генерируется один раз.\n",
    "2. Процедуру бутстрепа для подсчета бутстрепных доверительных интервалов нужно выполнять один раз."
   ]
  },
  {
   "cell_type": "code",
   "execution_count": 222,
   "metadata": {},
   "outputs": [
    {
     "name": "stdout",
     "output_type": "stream",
     "text": [
      "5 :  (1.059064065263145, 2.1638378405665777)   (1.0806779798943849, 2.171323272022339)   (1.0515786338073836, 2.1422239259353377)\n",
      "100 :  (1.27164536071221, 1.611399028858475)   (1.2685890896205307, 1.606559993623165)   (1.27648439594752, 1.6144552999501542)\n"
     ]
    }
   ],
   "source": [
    "sample_5 = sps.gamma(a = 3, scale = 1/2).rvs(size = 5)\n",
    "bootstrap_estimations = bootstrap(sample_5, B=100_000)\n",
    "d1 = boostrap_normal_confidence_interval(bootstrap_estimations, estimator(sample_5),alpha=0.95)\n",
    "d2 = boostrap_central_confidence_interval(bootstrap_estimations, estimator(sample_5),alpha=0.95)\n",
    "d3 = boostrap_quantile_confidence_interval(bootstrap_estimations, estimator(sample_5), alpha=0.95)\n",
    "print( \"5 : \", d1, \" \", d2, \" \", d3)\n",
    "\n",
    "sample_100 = sps.gamma(a = 3, scale = 1/2).rvs(size = 100)\n",
    "bootstrap_estimations = bootstrap(sample_100, B=100_000)\n",
    "d1 = boostrap_normal_confidence_interval(bootstrap_estimations, estimator(sample_100),alpha=0.95)\n",
    "d2 = boostrap_central_confidence_interval(bootstrap_estimations, estimator(sample_100),alpha=0.95)\n",
    "d3 = boostrap_quantile_confidence_interval(bootstrap_estimations, estimator(sample_100), alpha=0.95)\n",
    "print( \"100 : \", d1, \" \", d2, \" \", d3)"
   ]
  },
  {
   "cell_type": "markdown",
   "metadata": {},
   "source": [
    "**2.** Сравним все три типа интервалов. Во-первых, мы хотим, чтобы реальный уровень доверия этих доверительных интервалов был бы не менее 0.95. Это необходимое условие, при котором доверительный интервал корректно рассматривать. Во-вторых, мы хотим получить доверительный интервал как можно меньшей длины.\n",
    "\n",
    "Сгенерируйте $10^4$ выборок размера 5 из распределения $\\Gamma(3, 2)$. "
   ]
  },
  {
   "cell_type": "code",
   "execution_count": 231,
   "metadata": {},
   "outputs": [],
   "source": [
    "sample_huge = sps.gamma(a = 3, scale = 1/2).rvs(size = (10**4, 5))"
   ]
  },
  {
   "cell_type": "markdown",
   "metadata": {},
   "source": [
    "По каждой выборке посчитайте выборку оценок методом бутстрепа с $B = 10^5$. \n",
    "\n",
    "*Предупреждение*: код может работать долго, особенно при неоптимальной реализации."
   ]
  },
  {
   "cell_type": "code",
   "execution_count": null,
   "metadata": {},
   "outputs": [],
   "source": [
    "b_est = [bootstrap(sample_huge[i], B=10**5) for i in range(10**4)]"
   ]
  },
  {
   "cell_type": "markdown",
   "metadata": {},
   "source": [
    "Посчитайте реализации всех доверительных интервалов."
   ]
  },
  {
   "cell_type": "code",
   "execution_count": null,
   "metadata": {},
   "outputs": [],
   "source": [
    "d = np.zeros((10**4, 3))\n",
    "for i in range(10**4):\n",
    "    d1 = boostrap_normal_confidence_interval(b_est, estimator(sample_huge),alpha=0.95)\n",
    "    d2 = boostrap_central_confidence_interval(b_est, estimator(sample_huge),alpha=0.95)\n",
    "    d3 = boostrap_quantile_confidence_interval(b_est, estimator(sample_huge), alpha=0.95)\n",
    "    d[i] = [d1, d2, d3]"
   ]
  },
  {
   "cell_type": "markdown",
   "metadata": {},
   "source": [
    "По полученным реализациям посчитайте\n",
    "* оценку реального уровня доверия &mdash; долю реализаций исходных выборок, для которых истинное значение оцениваемого параметра попадает в реализацию доверительного интервала;\n",
    "* среднюю длину реализаций доверительных интервалов."
   ]
  },
  {
   "cell_type": "code",
   "execution_count": null,
   "metadata": {},
   "outputs": [],
   "source": [
    "trusts = []\n",
    "for di in range(3):\n",
    "    for j in range(10**4):\n",
    "        trust = sum(True for i in b_est[j] if (i <= d[j][di][1] and i>=d[j][di][0]))/5\n",
    "        trusts.append(trust)"
   ]
  },
  {
   "cell_type": "markdown",
   "metadata": {},
   "source": [
    "**3.** Повторите эксперимент для выборок размера 100."
   ]
  },
  {
   "cell_type": "code",
   "execution_count": null,
   "metadata": {},
   "outputs": [],
   "source": [
    "sample_huge = sps.gamma(a = 3, scale = 1/2).rvs(size = (10**4, 100))\n",
    "b_est = [bootstrap(sample_huge[i], B=10**5) for i in range(10**4)]\n",
    "d = np.zeros((10**4, 3))\n",
    "for i in range(10**4):\n",
    "    d1 = boostrap_normal_confidence_interval(b_est, estimator(sample_huge),alpha=0.95)\n",
    "    d2 = boostrap_central_confidence_interval(b_est, estimator(sample_huge),alpha=0.95)\n",
    "    d3 = boostrap_quantile_confidence_interval(b_est, estimator(sample_huge), alpha=0.95)\n",
    "    d[i] = [d1, d2, d3]\n",
    "    \n",
    "trusts = []\n",
    "for di in range(3):\n",
    "    for j in range(10**4):\n",
    "        trust = sum(True for i in b_est[j] if (i <= d[j][di][1] and i>=d[j][di][0]))/100\n",
    "        trusts.append(trust)"
   ]
  },
  {
   "cell_type": "markdown",
   "metadata": {},
   "source": [
    "Сделайте общие **выводы** по задаче."
   ]
  },
  {
   "cell_type": "markdown",
   "metadata": {},
   "source": [
    "**Вывод:** оценка реального уровня доверия увеличилась"
   ]
  },
  {
   "cell_type": "markdown",
   "metadata": {},
   "source": [
    "---\n",
    "### <b><i><font color=\"orange\">Сложная часть</font></i></b> \n",
    "\n",
    "### Задача 5.\n",
    "На высоте 1 метр от точки $\\theta$ находится источник $\\gamma$-излучения, который излучает безмассовых $\\gamma$-котиков, причем направления траекторий $\\gamma$-котиков случайны, т.е. равномерно распределены по полуокружности. Регистрируются координаты $X_i, i=1,...,n$ точек пересечения $\\gamma$-котиков с поверхностью детекторной плоскости.\n",
    "- Найдите оценку максимального правдоподобия параметра $\\theta$ для $n=1$ и $n=2$.\n",
    "- Найдите асимптотическую дисперсию, которую может обещать теорема о свойствах ОМП. Что мешает применить эту теорему? Сравните с оценкой с помощью выборочной медианы."
   ]
  },
  {
   "cell_type": "markdown",
   "metadata": {},
   "source": [
    "### Задача 6.\n",
    "\n",
    "\n",
    "Сгенерируйте выборку $X = \\left(X_1, \\dots, X_{1000} \\right)$ из стандартного распределения Коши. Для всех $n \\leqslant 1000$ по первым $n$ элементам выборки $X_1, \\dots, X_n$ вычислите значения следующих оценок:\n",
    "- $\\overline{X}$  —  выборочное среднее;\n",
    "- $\\overline{X}_{\\alpha}$ —  усеченное среднее, где $\\alpha$ &mdash; значение, на котором достигается минимум $\\sigma^2_{\\alpha}$;\n",
    "- $\\widehat{\\mu}$ —  выборочная медиана;\n",
    "\n",
    "а также, по каждой из этих оценок, одношаговую оценку. \n",
    "\n",
    "*Напоминание:* если $\\widehat{\\theta}_0$ — асимптотически нормальная оценка, то одношаговая оценка $\\widehat{\\theta}_1$ вычисляется как $\\widehat{\\theta}_1 = \\widehat{\\theta}_0 - \\left(\\ell''_X(\\widehat{\\theta}_0) \\right)^{-1} \\ell'_X(\\widehat{\\theta}_0)$, где $\\ell_X(\\theta)$ — логарифмическая функция правдоподобия. Заметим, что обычное выборочное среднее не является асимптотически нормальной оценкой, и оценка, вычисленная по формуле выше, формально не является одношаговой, однако ее все равно требуется посчитать.\n",
    "\n",
    "На одном графике изобразите зависимость значений этих оценок от $n$. Для каждой оценки $\\widehat{\\theta}_0$ соответствующая оценка $\\widehat{\\theta}_1$ должна быть изображена на графике пунктиром тем же цветом, что и $\\widehat{\\theta}_0$. \n",
    "\n",
    "Сравните асимптотические дисперсии оценок. \n",
    "\n",
    "*Замечание:* если некоторые оценки имеют большой разброс, и разница между графиками зависимостей оценок с малыми значениями недостаточно заметна, стоит сделать два графика, на одном из которых будут изображены все оценки, а на втором &mdash; только достаточно хорошие.\n"
   ]
  },
  {
   "cell_type": "code",
   "execution_count": null,
   "metadata": {},
   "outputs": [],
   "source": [
    "n = 1000\n",
    "grid = np.arange(n) + 1\n",
    "sample = sps.cauchy.rvs(size=n)\n",
    "estimation_mean = np.cumsum(sample) / grid"
   ]
  },
  {
   "cell_type": "code",
   "execution_count": null,
   "metadata": {},
   "outputs": [],
   "source": [
    "def cauchy_one_step(sample, estimation):\n",
    "    sample = sample - estimation\n",
    "    d = 2 * np.sum(sample / (1 + sample ** 2))\n",
    "    dd = -2 * np.sum((1 - sample ** 2) / (1 + sample ** 2) ** 2)\n",
    "    return estimation - d / dd"
   ]
  },
  {
   "cell_type": "markdown",
   "metadata": {},
   "source": [
    "**Вывод:**"
   ]
  }
 ],
 "metadata": {
  "colab": {
   "collapsed_sections": [],
   "name": "Белые мышки (задача 6) разбор.ipynb",
   "provenance": []
  },
  "kernelspec": {
   "display_name": "Python 3 (ipykernel)",
   "language": "python",
   "name": "python3"
  },
  "language_info": {
   "codemirror_mode": {
    "name": "ipython",
    "version": 3
   },
   "file_extension": ".py",
   "mimetype": "text/x-python",
   "name": "python",
   "nbconvert_exporter": "python",
   "pygments_lexer": "ipython3",
   "version": "3.9.13"
  },
  "vscode": {
   "interpreter": {
    "hash": "31f2aee4e71d21fbe5cf8b01ff0e069b9275f58929596ceb00d14d90e3e16cd6"
   }
  }
 },
 "nbformat": 4,
 "nbformat_minor": 1
}
