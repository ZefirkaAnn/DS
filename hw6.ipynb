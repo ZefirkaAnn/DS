{
 "cells": [
  {
   "cell_type": "markdown",
   "id": "9157b443",
   "metadata": {},
   "source": [
    "# <a href=\"https://miptstats.github.io/courses/ad_mipt.html\">Phystech@DataScience</a>\n",
    "## Домашнее задание 6\n",
    "\n",
    "**Правила, <font color=\"red\">прочитайте внимательно</font>:**\n",
    "\n",
    "* Выполненную работу нужно отправить телеграм-боту `@miptstats_pds_bot`. Для начала работы с ботом каждый раз отправляйте `/start`. **Работы, присланные иным способом, не принимаются.**\n",
    "* Дедлайн см. в боте. После дедлайна работы не принимаются кроме случаев наличия уважительной причины.\n",
    "* Прислать нужно ноутбук в формате `ipynb`.\n",
    "* Выполнять задание необходимо полностью самостоятельно. **При обнаружении списывания все участники списывания будут сдавать устный зачет.**\n",
    "* Решения, размещенные на каких-либо интернет-ресурсах, не принимаются. Кроме того, публикация решения в открытом доступе может быть приравнена к предоставлении возможности списать.\n",
    "* Для выполнения задания используйте этот ноутбук в качестве основы, ничего не удаляя из него. Можно добавлять необходимое количество ячеек.\n",
    "* Комментарии к решению пишите в markdown-ячейках.\n",
    "* Выполнение задания (ход решения, выводы и пр.) должно быть осуществлено на русском языке.\n",
    "* Если код будет не понятен проверяющему, оценка может быть снижена.\n",
    "* Никакой код из данного задания при проверке запускаться не будет. *Если код студента не выполнен, недописан и т.д., то он не оценивается.*\n",
    "* **Код из рассказанных на занятиях ноутбуков можно использовать без ограничений.**\n",
    "\n",
    "**Правила оформления теоретических задач:**\n",
    "\n",
    "* Решения необходимо прислать одним из следующих способов:\n",
    "  * фотографией в правильной ориентации, где все четко видно, а почерк разборчив,\n",
    "    * отправив ее как файл боту вместе с ноутбуком *или*\n",
    "    * вставив ее в ноутбук посредством `Edit -> Insert Image` (<font color=\"red\">фото, вставленные ссылкой, не принимаются</font>);\n",
    "  * в виде $\\LaTeX$ в markdown-ячейках.\n",
    "* Решения не проверяются, если какое-то требование не выполнено. Особенно внимательно все проверьте в случае выбора второго пункта (вставки фото в ноутбук). <font color=\"red\"><b>Неправильно вставленные фотографии могут не передаться при отправке.</b></font> Для проверки попробуйте переместить `ipynb` в другую папку и открыть его там.\n",
    "* В решениях поясняйте, чем вы пользуетесь, хотя бы кратко. Например, если пользуетесь независимостью, то достаточно подписи вида \"*X и Y незав.*\"\n",
    "* Решение, в котором есть только ответ, и отсутствуют вычисления, оценивается в 0 баллов.\n",
    "\n",
    "**Баллы за задание:**\n",
    "\n",
    "<b><font color=\"blue\">Легкая часть</font></b> (достаточно на \"хор\"):\n",
    "* Задача 1 &mdash; 15 баллов\n",
    "* Задача 2 &mdash; 20 баллов\n",
    "* Задача 3 &mdash;  20 баллов\n",
    "* Задача 4 &mdash;  25 баллов\n",
    "* Задача 5 &mdash; 25 баллов\n",
    "\n",
    "<b><font color=\"orange\">Сложная часть</font></b> (необходимо на \"отл\"):\n",
    "* Задача 6 &mdash; 35 баллов\n",
    "* Задача 7 &mdash; 40 баллов\n",
    "\n",
    "\n",
    "-----"
   ]
  },
  {
   "cell_type": "code",
   "execution_count": 1,
   "id": "6744ddcf",
   "metadata": {},
   "outputs": [],
   "source": [
    "import numpy as np\n",
    "import scipy.stats as sps\n",
    "import matplotlib.pyplot as plt\n",
    "import seaborn as sns\n",
    "\n",
    "sns.set(palette='Set2')"
   ]
  },
  {
   "cell_type": "markdown",
   "id": "004c83b3",
   "metadata": {},
   "source": [
    "### <b><i><font color=\"blue\">Легкая часть</font></i></b> \n",
    "### Задача 1\n",
    "\n",
    "Для критерия Вальда для проверки гипотез с $\\mathsf{H}_0: \\theta = \\theta_0$ найдите мощность критерия, а также эквивалентный доверительный интервал для\n",
    "- двустронней альтернативы (мощность была выведена на лекции)\n",
    "- левосторонней альтернативы\n",
    "- правосторонней альтернативы"
   ]
  },
  {
   "cell_type": "markdown",
   "id": "0d1a2899",
   "metadata": {},
   "source": [
    "### Задача 2\n",
    " Пусть $X = ( X_1, ... X_n)$ &mdash; выборка из неизвестного распределения $\\mathsf{P} \\in \\{ \\mathsf{P}_{\\theta} | \\theta \\in \\Theta \\}$\n",
    "и для проверки гипотез $\\mathsf{H}_0 \\colon \\theta \\in [−1, 1]$   vs.  $\\mathsf{H}_1 \\colon \\theta \\notin [−1, 1]$ используется критерий\n",
    "$S = \\{x \\in \\mathbb{R}^n | T(x) > 1\\}$. Предположим, $T(x)$ имеет распределение $\\mathcal{N}(\\theta, 1)$. Какие\n",
    "ответы возможны в результате проверки данных гипотез и в каких случаях? Найдите\n",
    "вероятность ошибки первого рода.\n",
    "\n",
    "*Указание:*\n",
    "- Не забудьте, что в определении вероятности ошибки I рода стоит супремум по всем параметрам из основной гипотезы\n",
    "- Можно показать, где достигается супремум графически. Например, с помощью `sps.norm`, где параметр `loc` отвечает за сдвиг.\n"
   ]
  },
  {
   "cell_type": "markdown",
   "id": "d5953131",
   "metadata": {},
   "source": [
    "### Задача 3\n",
    "\n",
    "Проведен эксперимент, получены данные из экспоненциального распределения. "
   ]
  },
  {
   "cell_type": "code",
   "execution_count": 2,
   "id": "874ad1c7",
   "metadata": {},
   "outputs": [],
   "source": [
    "sample = [0.11731702, 0.75253036, 0.32918642, 0.22823564, 0.04240622,\n",
    "        0.04239907, 0.01495969, 0.50280772, 0.22977054, 0.30781252,\n",
    "        0.00519983, 0.87588937, 0.44660739, 0.05967191, 0.05016975,\n",
    "        0.05065286, 0.09068843, 0.18598196, 0.14138427, 0.08605575,\n",
    "        0.23659272, 0.03755863, 0.08637888, 0.1140693 , 0.15223367,\n",
    "        0.384484  , 0.05568397, 0.18050729, 0.22437618, 0.01189096]"
   ]
  },
  {
   "cell_type": "markdown",
   "id": "3a3e2c61",
   "metadata": {},
   "source": [
    "Необходимо проверить, является ли это распределение с параметром $\\lambda=2$. Используя Критерий Вальда, сделайте вывод по данному предположению.\n",
    "\n",
    "$X_1, ... X_n$ - выборка из распределения $Exp(\\theta)$.  \n",
    "Проверьте гипотезу $\\mathsf{H}_0\\colon \\theta = 2$ c правосторонней и левосторонней альтернативами."
   ]
  },
  {
   "cell_type": "markdown",
   "id": "dd8eb639",
   "metadata": {},
   "source": [
    "1. Оформите функцию подсчета статистики критерия, p-value и доверительного интервала "
   ]
  },
  {
   "cell_type": "code",
   "execution_count": 59,
   "id": "d82257c3",
   "metadata": {},
   "outputs": [],
   "source": [
    "def wald_test(sample, theta, estimation_theta, estimation_sigma, alternative='two_sided'):\n",
    "    \"\"\"\n",
    "    param sample: реализация выборки\n",
    "    param theta: истинное значение параметра\n",
    "    param estimation_theta: оценка параметра\n",
    "    param estimation_sigma: оценка асимптотической дисперсии оценки estimation_sigma\n",
    "    param alternative: вид альтернативной гипотезы, может принимать одно из значений 'two_sided', 'less', 'greater'\n",
    "\n",
    "    return statistic\n",
    "    return p_value\n",
    "    return conf_int - доверительный интервал\n",
    "    \"\"\"\n",
    "    #правосторонняя\n",
    "    if alternative == 'greater':\n",
    "        z = sps.norm.ppf(1-alpha)\n",
    "        statistic = np.sqrt(n)*(estimation_theta - theta)/estimation_sigma\n",
    "        p_value = sps.norm.sf(np.abs(statistic))\n",
    "        conf_int = (estimation_theta - z*estimation_sigma/np.sqrt(n), +np.inf)\n",
    "        return statistic, p_value, conf_int\n",
    "\n",
    "    #левосторонняя\n",
    "    if alternative == 'less':\n",
    "        z = sps.norm.ppf(alpha)\n",
    "        statistic = np.sqrt(n)*(estimation_theta - theta)/estimation_sigma\n",
    "        p_value = sps.norm.cdf(np.abs(statistic))\n",
    "        conf_int = (-np.inf, estimation_theta - z*estimation_sigma/np.sqrt(n))\n",
    "        return statistic, p_value, conf_int\n",
    "    \n",
    "    #двусторонняя\n",
    "    if alternative == 'two_sided':\n",
    "        z = sps.norm.ppf(1-alpha/2)\n",
    "        statistic = np.sqrt(n)*(estimation_theta - theta)/estimation_sigma\n",
    "        p_value = sps.norm.cdf(-np.abs(statistic)) + sps.norm.sf(np.abs(statistic))\n",
    "        conf_int = (estimation_theta - z*estimation_sigma/np.sqrt(n), \n",
    "        estimation_theta + z*estimation_sigma/np.sqrt(n))\n",
    "        return statistic, p_value, conf_int"
   ]
  },
  {
   "cell_type": "markdown",
   "id": "b9269b95",
   "metadata": {},
   "source": [
    "2. Проверьте гипотезу с правосторонней альтернативой."
   ]
  },
  {
   "cell_type": "code",
   "execution_count": 60,
   "id": "852db5bd",
   "metadata": {},
   "outputs": [
    {
     "data": {
      "text/plain": [
       "(3.2704505437191247, 0.0005368815802560122, (3.4732783303117714, inf))"
      ]
     },
     "execution_count": 60,
     "metadata": {},
     "output_type": "execute_result"
    }
   ],
   "source": [
    "alpha = 0.05\n",
    "theta = 2\n",
    "n = len(sample)\n",
    "estimation_theta = 1/(np.mean(sample))\n",
    "estimation_sigma = 1/(np.mean(sample))\n",
    "wald_test(sample, theta, estimation_theta, estimation_sigma, alternative='greater')"
   ]
  },
  {
   "cell_type": "markdown",
   "id": "677c5087",
   "metadata": {},
   "source": [
    "**Вывод:** гипотеза отвергается, истинное значение не попадает в доверительный интервал"
   ]
  },
  {
   "cell_type": "markdown",
   "id": "14bcda8f",
   "metadata": {},
   "source": [
    "3. Проверьте гипотезу с левосторонней альтернативой."
   ]
  },
  {
   "cell_type": "code",
   "execution_count": 61,
   "id": "e37f9413",
   "metadata": {},
   "outputs": [
    {
     "data": {
      "text/plain": [
       "(3.2704505437191247, 0.999463118419744, (-inf, 6.454739700133861))"
      ]
     },
     "execution_count": 61,
     "metadata": {},
     "output_type": "execute_result"
    }
   ],
   "source": [
    "wald_test(sample, theta, estimation_theta, estimation_sigma, alternative='less')"
   ]
  },
  {
   "cell_type": "markdown",
   "id": "a899cb81",
   "metadata": {},
   "source": [
    "**Вывод:** p-value > ${\\alpha}$ , то есть нельзя сделать вывод о гипотезе, модуль статистики Вальда остается неизменным, истиное значение попадает в доверительный интервал"
   ]
  },
  {
   "cell_type": "markdown",
   "id": "37f3364a",
   "metadata": {},
   "source": [
    "\n",
    "\n",
    "### Задача 4\n",
    "\n",
    "На практике часто рассматривают асимптотические критерии, например, критерий Вальда. Такие критерии контролируют вероятность ошибки I рода на уровне $\\alpha$ только в пределе, однако для небольших выборок она может сильно отличаться от $\\alpha$, причем не редко в большую сторону. Поэтому для таких критериев возникает необходимость в вычислении значения вероятности ошибки I рода или *реального уровня значимости* при конечной выборке.\n",
    "\n",
    "Зачастую посчитать точное значение реального уровня значимости довольно сложно, поэтому вместо него вычисляют оценку с помощью семплирования по методу Монте-Карло.\n",
    "\n",
    "Пусть гипотеза $\\mathsf{H}_0$ простая, то есть $\\mathsf{H}_0\\colon \\mathsf{P} = \\mathsf{P}_0$. Для ее проверки по конечной выборке $X_1, ..., X_n$ используется критерий $S$. **Опишите схему оценки реального уровня** значимости критерия $S$ методом Монте-Карло."
   ]
  },
  {
   "cell_type": "markdown",
   "id": "d76af73a",
   "metadata": {},
   "source": [
    "**Ответ:** 1) генерирую k выборок (при $\\mathsf{P} = \\mathsf{P}_0$)\n",
    "\n",
    "2) для любого k вычисляю критерий  $\\mathsf{I^k} = \\mathsf{I}\\{X^k \\in \\mathsf{S}\\}$\n",
    "\n",
    "3) оцениваем ошибку 1-го рода (оценка реального уровня значимости) как среднее этих интикаторов"
   ]
  },
  {
   "cell_type": "markdown",
   "id": "1d6e5aaa",
   "metadata": {},
   "source": [
    "Если гипотеза $\\mathsf{H}_0$ сложная, то есть $\\mathsf{H}_0\\colon \\mathsf{P} \\in \\mathscr{P}_0$, то можно повторить такую процедуру несколько раз для разных $\\mathsf{P} \\in \\mathscr{P}_0$.\n",
    "\n",
    "Рассмотрим альтернативную гипотезу $\\mathsf{H}_1\\colon \\mathsf{P} \\in \\mathscr{P}_1$. **Опишите схему оценки мощности** критерия $S$ методом Монте-Карло."
   ]
  },
  {
   "cell_type": "markdown",
   "id": "b7ef9eb9",
   "metadata": {},
   "source": [
    "**Ответ:** 1) генерирую k выборок (при $\\mathsf{P} = \\mathsf{P}_1$)\n",
    "\n",
    "2) для любого k вычисляю критерий  $\\mathsf{I^k} = \\mathsf{I}\\{X^k \\in \\mathsf{S}\\}$\n",
    "\n",
    "3) оцениваем ошибку 1-го рода (оценка мощности) как среднее этих интикаторов\n",
    "\n",
    "4) проверяем процедуру неколько раз для $\\mathsf{P} \\in \\mathscr{P}_1$"
   ]
  },
  {
   "cell_type": "markdown",
   "id": "9dd91e81",
   "metadata": {},
   "source": [
    "Пусть $X_1, ..., X_n$ &mdash; выборка из пуассоновского распределения с параметром $\\theta$. Рассмотрим гипотезы $\\mathsf{H}_0\\colon \\theta = 1\\ \\ vs.\\ \\ \\mathsf{H}_1\\colon \\theta \\not= 1$ и критерий Вальда для их проверки.\n",
    "\n",
    "**1.** **Оцените реальный уровень значимости** критерия для $ n = 50$."
   ]
  },
  {
   "cell_type": "code",
   "execution_count": 116,
   "id": "988feee1",
   "metadata": {},
   "outputs": [
    {
     "data": {
      "text/plain": [
       "0.45"
      ]
     },
     "execution_count": 116,
     "metadata": {},
     "output_type": "execute_result"
    }
   ],
   "source": [
    "n = 50\n",
    "k = 100\n",
    "theta_check = 1\n",
    "x = sps.poisson(theta_check).rvs(size = (k, n))\n",
    "z = sps.norm.ppf(1-alpha/2)\n",
    "statistic = np.zeros(k)\n",
    "for i in range(k):\n",
    "    estimation_theta = x[i].mean()\n",
    "    estimation_sigma = estimation_theta / n\n",
    "    statistic[i] = np.sqrt(n)*(estimation_theta - theta_check) / estimation_sigma\n",
    "I = np.array([int(statistic[i] > z) for i in range(k)])\n",
    "level = I.mean()\n",
    "level"
   ]
  },
  {
   "cell_type": "markdown",
   "id": "76973cfd",
   "metadata": {},
   "source": [
    "**Вывод:** чем меньше n, тем меньше реальный уровень значимости (а следовательно меньше вероятность ошибки 1 рода - отвержение верной гипотезы). По данному критерию отвергается верная гипотеза 45% раз для выборок размера 50"
   ]
  },
  {
   "cell_type": "markdown",
   "id": "4e645cc9",
   "metadata": {},
   "source": [
    "**3.** Пусть $n=50$. **Сравните мощности критериев**, соответствующих двусторонней, левосторонней и правосторонней альтернативам при $\\theta=0.2$ и при $\\theta=2$."
   ]
  },
  {
   "cell_type": "code",
   "execution_count": 123,
   "id": "51b10c35",
   "metadata": {},
   "outputs": [
    {
     "name": "stdout",
     "output_type": "stream",
     "text": [
      "for theta=0.2 :: two_sided :  1.0  less :  0.0  greater :  1.0\n",
      "for theta=2 :: two_sided :  0.0  less :  1.0  greater :  0.0\n"
     ]
    }
   ],
   "source": [
    "n = 50\n",
    "k = 100\n",
    "\n",
    "theta_check = 0.2\n",
    "x = sps.poisson(1).rvs(size = (k, n))\n",
    "statistic = np.zeros(k)\n",
    "for i in range(k):\n",
    "    estimation_theta = x[i].mean()\n",
    "    estimation_sigma = estimation_theta / n\n",
    "    statistic[i] = np.sqrt(n) * (estimation_theta - theta_check) / estimation_sigma\n",
    "\n",
    "z = sps.norm.ppf(1-alpha/2)\n",
    "I_two = np.array([int(statistic[i] > z) for i in range(k)])\n",
    "\n",
    "z = sps.norm.ppf(alpha)\n",
    "I_less = np.array([int(statistic[i] < z) for i in range(k)])\n",
    "\n",
    "z = sps.norm.ppf(1-alpha)\n",
    "I_greater = np.array([int(statistic[i] > z) for i in range(k)])\n",
    "\n",
    "print('for theta=0.2 :: two_sided : ', I_two.mean(),' less : ', I_less.mean(),' greater : ', I_greater.mean())\n",
    "\n",
    "theta_check = 2\n",
    "x = sps.poisson(1).rvs(size = (k, n))\n",
    "for i in range(k):\n",
    "    estimation_theta = x[i].mean()\n",
    "    estimation_sigma = estimation_theta / n\n",
    "    statistic[i] = np.sqrt(n) * (estimation_theta - theta_check) / estimation_sigma\n",
    "\n",
    "z = sps.norm.ppf(1-alpha/2)\n",
    "I_two = np.array([int(statistic[i] > z) for i in range(k)])\n",
    "\n",
    "z = sps.norm.ppf(alpha)\n",
    "I_less = np.array([int(statistic[i] < z) for i in range(k)])\n",
    "\n",
    "z = sps.norm.ppf(1-alpha)\n",
    "I_greater = np.array([int(statistic[i] > z) for i in range(k)])\n",
    "\n",
    "print('for theta=2 :: two_sided : ', I_two.mean(),' less : ', I_less.mean(),' greater : ', I_greater.mean())"
   ]
  },
  {
   "cell_type": "markdown",
   "id": "9419248f",
   "metadata": {},
   "source": [
    "**Вывод:** "
   ]
  },
  {
   "cell_type": "markdown",
   "id": "bc47e3b0",
   "metadata": {},
   "source": [
    "\n",
    "\n",
    "### Задача 5"
   ]
  },
  {
   "cell_type": "markdown",
   "id": "2d01f479",
   "metadata": {},
   "source": [
    "**Профиль физика**\n",
    "\n",
    "Период колебания математического маятника можно расчиатать по следующей формуле:\n",
    "$$T = 2\\pi \\sqrt{\\frac{l}{g}}$$\n",
    "Вы выполнили лабораторную работу по вычислению ускорения свободного падения. Длина нити маятника 50 см. В своей работе вы измеряли время 10 полных колебаний (10 периодов) с помощью обычного секундомера и получили такие значение: \n",
    "\n",
    "\n"
   ]
  },
  {
   "cell_type": "code",
   "execution_count": 40,
   "id": "48281659",
   "metadata": {},
   "outputs": [],
   "source": [
    "T_sample = [14.47, 14.46, 14.73, 14.74, 16.14, 12.6, 14.17, 12.83, 14.1, 12.81, 12.98, \n",
    "            13.84, 13.96, 13.6, 14.13, 15.32, 13.98, 13.96, 12.86, 15.46, 13.2, 15.26, \n",
    "            14.86, 14.49, 14.8, 12.92, 14.65, 14.47, 15.88, 15.04, 14.84, 15.12, 12.96, \n",
    "            16.2, 11.99, 15.57, 13.55, 13.16, 14.76, 13.79, 12.58, 14.61, 14.1, 14.54, \n",
    "            14.72, 14.87, 13.37, 14.04, 13.09, 14.7]"
   ]
  },
  {
   "cell_type": "markdown",
   "id": "c548b045",
   "metadata": {},
   "source": [
    "Получите массив величин g, используя формулу выше."
   ]
  },
  {
   "cell_type": "code",
   "execution_count": 57,
   "id": "75e37d64",
   "metadata": {},
   "outputs": [],
   "source": [
    "l = 50\n",
    "g = 4* np.pi**2 * l / np.array(T_sample)**2"
   ]
  },
  {
   "cell_type": "markdown",
   "id": "c7c6586c",
   "metadata": {},
   "source": [
    "Предположим, такие величины имеют нормальное распределение $\\mathcal{N}(a, \\sigma^2)$. Используйте критерий Вальда для проверки гипотезы $\\mathsf{H}_0: a = 9.81$ vs $\\mathsf{H}_1: a \\neq 9.81$\n"
   ]
  },
  {
   "cell_type": "code",
   "execution_count": 62,
   "id": "5669ee57",
   "metadata": {},
   "outputs": [
    {
     "data": {
      "text/plain": [
       "(0.3958507774993655, 0.6922151149705404, (9.24793721146132, 10.65656008815225))"
      ]
     },
     "execution_count": 62,
     "metadata": {},
     "output_type": "execute_result"
    }
   ],
   "source": [
    "#двустрорнняя альтернатива\n",
    "theta = 9.81\n",
    "estimation_sigma = (g**2).mean() -(g.mean())**2\n",
    "estimation_theta = g.mean()\n",
    "wald_test(sample, theta, estimation_theta, estimation_sigma)"
   ]
  },
  {
   "cell_type": "markdown",
   "id": "e163db40",
   "metadata": {},
   "source": [
    "**Вывод:** истинное значение входит в доверительный интервал, но p-value > ${\\alpha}$, то есть гипотезу не можем отвергнуть."
   ]
  },
  {
   "cell_type": "markdown",
   "id": "034c700e",
   "metadata": {},
   "source": [
    "--- \n",
    "### <b><i><font color=\"orange\">Сложная часть</font></i></b> \n",
    "\n",
    "\n",
    "###  Задача 6\n",
    "1. Пусть $X = ( X_1, ... X_n)$ &mdash; выборка из неизвестного распределения $\\mathsf{P} \\in \\mathcal{N}(a, \\sigma^2)$. Постройте критерий для проверки гипотез $\\mathsf{H}_0 \\colon a = 0 $   vs.  $\\mathsf{H}_1 \\colon a > 0$ уровня значимости $\\alpha$.\n",
    "\n",
    "Бонусный сложный пункт: получите выражение для p-value аналогично правостороннему критерию Вальда\n",
    "\n",
    "*Указание:*\n",
    "- Используйте статистику $T(X) = \\sqrt{n - 1} \\frac{\\overline{X}}{s}$, использовавшуюся при построении точных доверительных интервалов в нормальной модели. Какое распределение она имеет при справедливости $\\mathsf{H}_0$ (т.е. при $a = 0$)? \n",
    "- Подумайте, какой вид должен иметь критерий? При каких значениях $T(X)$ гипотезу $\\mathsf{H}_0$ разумно отвергать?\n",
    "- Этот критерий реализован в `scipy.stats.ttest_1samp`. Использовать для данной задачи его можно следующим образом: `sps.ttest_1samp(sample, popmean=0, alternative='greater')`. В результате применения функция вернет значение статистики критерия, p-value и количество степеней свободы. Вы можете проверить свой ответ с ее помощью."
   ]
  },
  {
   "cell_type": "markdown",
   "id": "5b415e77",
   "metadata": {},
   "source": [
    "2. Пусть  $X = ( X_1, ... X_n)$ &mdash; выборка из неизвестного распределения $\\mathsf{P}$ с конечным вторым моментом. Постройте асимптотический критерий для проверки гипотез $\\mathsf{H}_0 \\colon EX_1 = 0 $   vs.  $\\mathsf{H}_1 \\colon  EX_1 > 0$ уровня значимости $\\alpha$. Покажите, что при $n \\to \\infty$ этот критерий совпадает с критерием из первого пункта."
   ]
  },
  {
   "cell_type": "markdown",
   "id": "ae010418",
   "metadata": {},
   "source": [
    "\n",
    "\n",
    "### Задача 7\n",
    "\n",
    "Это задание является продолжением задачи 6. Здесь вам необходимо наглядно сравнить два критерия из предыдущей задачи. Для этого прооделайте все пункты для обоих критериев. Обязательно подписывайте какой график к какому критерию относится."
   ]
  },
  {
   "cell_type": "markdown",
   "id": "c2faba73",
   "metadata": {},
   "source": [
    "\n",
    "**1.** **Оцените реальный уровень значимости** критерия для размеров выборки $1 \\leqslant n \\leqslant 50$ и визуализируйте полученную зависимость."
   ]
  },
  {
   "cell_type": "code",
   "execution_count": null,
   "id": "66a277e5",
   "metadata": {},
   "outputs": [],
   "source": [
    "..."
   ]
  },
  {
   "cell_type": "markdown",
   "id": "b3b4b5f2",
   "metadata": {},
   "source": [
    "**Вывод:**..."
   ]
  },
  {
   "cell_type": "markdown",
   "id": "922d526c",
   "metadata": {},
   "source": [
    "**2.** Для значений $n \\in \\{5, 15, 30, 50, 100\\}$ **оцените функцию мощности критерия** для значений $\\theta \\in (0, 5)$ по сетке с шагом 0.25 по методу Монте-Карло. Визуализируйте полученные зависимости. Посчитайте также мощность критерия по асимптотической формуле, полученной на лекции, и сравните с оценкой мощности методом Монте-Карло. Учтите, что асимптотическая формула содержит $n$, поэтому для нее тоже должно быть три зависимости."
   ]
  },
  {
   "cell_type": "code",
   "execution_count": null,
   "id": "b53c62dd",
   "metadata": {},
   "outputs": [],
   "source": [
    "..."
   ]
  },
  {
   "cell_type": "markdown",
   "id": "09c13389",
   "metadata": {},
   "source": [
    "**Вывод:**..."
   ]
  },
  {
   "cell_type": "markdown",
   "id": "6ddcca25",
   "metadata": {},
   "source": [
    "**3.** Пусть $n=50$. **Сравните мощности критериев**, соответствующих двусторонней, левосторонней и правосторонней альтернативам при $\\theta \\in (0, 5)$ по сетке с шагом 0.25."
   ]
  },
  {
   "cell_type": "code",
   "execution_count": null,
   "id": "8fcea43e",
   "metadata": {},
   "outputs": [],
   "source": [
    "..."
   ]
  },
  {
   "cell_type": "markdown",
   "id": "202c27ab",
   "metadata": {},
   "source": [
    "**Вывод:**..."
   ]
  },
  {
   "cell_type": "markdown",
   "id": "504c4b8b",
   "metadata": {},
   "source": [
    "Сделайте общий вывод по сравнению двух критериев."
   ]
  },
  {
   "cell_type": "markdown",
   "id": "d6aacc05",
   "metadata": {},
   "source": [
    "**Вывод:**"
   ]
  }
 ],
 "metadata": {
  "kernelspec": {
   "display_name": "Python 3 (ipykernel)",
   "language": "python",
   "name": "python3"
  },
  "language_info": {
   "codemirror_mode": {
    "name": "ipython",
    "version": 3
   },
   "file_extension": ".py",
   "mimetype": "text/x-python",
   "name": "python",
   "nbconvert_exporter": "python",
   "pygments_lexer": "ipython3",
   "version": "3.9.13"
  }
 },
 "nbformat": 4,
 "nbformat_minor": 5
}
